{
 "cells": [
  {
   "cell_type": "code",
   "execution_count": 12,
   "id": "c5c817c5",
   "metadata": {},
   "outputs": [
    {
     "data": {
      "text/plain": [
       "<module 'tensorflow._api.v2.config' from '/home/metal/Desktop/mlsda/.venv/lib/python3.13/site-packages/tensorflow/_api/v2/config/__init__.py'>"
      ]
     },
     "execution_count": 12,
     "metadata": {},
     "output_type": "execute_result"
    }
   ],
   "source": [
    "import tensorflow as tf\n",
    "from tensorflow.keras.preprocessing.image import ImageDataGenerator\n",
    "import matplotlib.pyplot as plt\n",
    "tf.config"
   ]
  },
  {
   "cell_type": "code",
   "execution_count": 13,
   "id": "02db0913",
   "metadata": {},
   "outputs": [],
   "source": [
    "IMAGE_SIZE = (150,150)\n",
    "BATCH_SIZE = 32\n",
    "DATA_DIR = 'Dataset'"
   ]
  },
  {
   "cell_type": "code",
   "execution_count": 14,
   "id": "930c8584",
   "metadata": {},
   "outputs": [],
   "source": [
    "train_data =  ImageDataGenerator(1./255)\n",
    "val_data = ImageDataGenerator(1./255)\n",
    "test_data = ImageDataGenerator(1./255)\n"
   ]
  },
  {
   "cell_type": "code",
   "execution_count": 15,
   "id": "a4b74035",
   "metadata": {},
   "outputs": [
    {
     "name": "stdout",
     "output_type": "stream",
     "text": [
      "Found 17498 images belonging to 2 classes.\n",
      "Found 3748 images belonging to 2 classes.\n",
      "Found 3752 images belonging to 2 classes.\n"
     ]
    }
   ],
   "source": [
    "train_gen = train_data.flow_from_directory(\n",
    "    directory =  f'./{DATA_DIR}/train',\n",
    "    target_size = IMAGE_SIZE,\n",
    "    batch_size = BATCH_SIZE,\n",
    "    class_mode =  'binary'\n",
    ")  \n",
    "\n",
    "val_gen = val_data.flow_from_directory(\n",
    "    directory =  f'./{DATA_DIR}/val',\n",
    "    target_size = IMAGE_SIZE,\n",
    "    batch_size = BATCH_SIZE,\n",
    "    class_mode =  'binary'\n",
    ")  \n",
    "\n",
    "test_gen = test_data.flow_from_directory(\n",
    "    directory =  f'./{DATA_DIR}/test',\n",
    "    target_size = IMAGE_SIZE,\n",
    "    batch_size = BATCH_SIZE,\n",
    "    class_mode =  'binary',\n",
    "    shuffle = False,\n",
    ")  "
   ]
  },
  {
   "cell_type": "code",
   "execution_count": 16,
   "id": "771878ab",
   "metadata": {},
   "outputs": [],
   "source": [
    "model = tf.keras.models.Sequential([\n",
    "    tf.keras.Input(shape=(150,150,3)),\n",
    "    tf.keras.layers.Conv2D(32, 3,activation='relu'),\n",
    "    tf.keras.layers.MaxPool2D(2,2),\n",
    "    tf.keras.layers.Conv2D(64,3, activation='relu'),\n",
    "    tf.keras.layers.MaxPooling2D(2,2),\n",
    "    tf.keras.layers.Conv2D(138,3, activation='relu'),\n",
    "    tf.keras.layers.MaxPooling2D(2,2),\n",
    "    tf.keras.layers.Flatten(),\n",
    "    tf.keras.layers.Dense(512, activation='relu'),\n",
    "    tf.keras.layers.Dense(1, activation='sigmoid')\n",
    "])\n"
   ]
  },
  {
   "cell_type": "code",
   "execution_count": 19,
   "id": "43ac1eae",
   "metadata": {},
   "outputs": [],
   "source": [
    "model.compile(\n",
    "    loss =  'binary_crossentropy',\n",
    "    optimizer = 'Adam',\n",
    "    metrics =  ['Accuracy'],\n",
    ")\n",
    "\n"
   ]
  },
  {
   "cell_type": "code",
   "execution_count": null,
   "id": "5638675e",
   "metadata": {},
   "outputs": [
    {
     "name": "stdout",
     "output_type": "stream",
     "text": [
      "Epoch 1/10\n",
      "\u001b[1m547/547\u001b[0m \u001b[32m━━━━━━━━━━━━━━━━━━━━\u001b[0m\u001b[37m\u001b[0m \u001b[1m0s\u001b[0m 170ms/step - Accuracy: 0.5627 - loss: 9.3827"
     ]
    },
    {
     "name": "stderr",
     "output_type": "stream",
     "text": [
      "/home/metal/Desktop/mlsda/.venv/lib/python3.13/site-packages/PIL/TiffImagePlugin.py:950: UserWarning: Truncated File Read\n",
      "  warnings.warn(str(msg))\n"
     ]
    },
    {
     "name": "stdout",
     "output_type": "stream",
     "text": [
      "\u001b[1m547/547\u001b[0m \u001b[32m━━━━━━━━━━━━━━━━━━━━\u001b[0m\u001b[37m\u001b[0m \u001b[1m101s\u001b[0m 181ms/step - Accuracy: 0.5808 - loss: 2.1890 - val_Accuracy: 0.6257 - val_loss: 0.6415\n",
      "Epoch 2/10\n",
      "\u001b[1m547/547\u001b[0m \u001b[32m━━━━━━━━━━━━━━━━━━━━\u001b[0m\u001b[37m\u001b[0m \u001b[1m0s\u001b[0m 170ms/step - Accuracy: 0.6307 - loss: 0.6448"
     ]
    }
   ],
   "source": [
    "model.fit(\n",
    "    train_gen,\n",
    "    validation_data = val_gen,\n",
    "    epochs = 10,\n",
    ")"
   ]
  }
 ],
 "metadata": {
  "kernelspec": {
   "display_name": ".venv",
   "language": "python",
   "name": "python3"
  },
  "language_info": {
   "codemirror_mode": {
    "name": "ipython",
    "version": 3
   },
   "file_extension": ".py",
   "mimetype": "text/x-python",
   "name": "python",
   "nbconvert_exporter": "python",
   "pygments_lexer": "ipython3",
   "version": "3.13.5"
  }
 },
 "nbformat": 4,
 "nbformat_minor": 5
}
